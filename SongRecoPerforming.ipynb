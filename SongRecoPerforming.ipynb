{
 "cells": [
  {
   "cell_type": "code",
   "execution_count": 11,
   "id": "ae07c45d",
   "metadata": {},
   "outputs": [],
   "source": [
    "# 1. import libraries\n",
    "import requests # to download html code\n",
    "from bs4 import BeautifulSoup # to navigate through the html code\n",
    "import pandas as pd\n",
    "import numpy as np\n",
    "import re\n",
    "from sklearn.preprocessing import StandardScaler\n",
    "from sklearn.cluster import KMeans\n",
    "import pprint\n",
    "import pyinputplus as pyip   #to insert predefined user input functions\n",
    "import random\n",
    "from IPython.display import IFrame\n",
    "\n",
    "import config\n",
    "import spotipy\n",
    "import json\n",
    "from spotipy.oauth2 import SpotifyClientCredentials\n",
    "\n",
    "#Initialize SpotiPy with user credentias\n",
    "sp = spotipy.Spotify(auth_manager=SpotifyClientCredentials(client_id= config.client_id,\n",
    "                                                           client_secret= config.client_secret))\n",
    "\n",
    "hot100_df = pd.read_csv(\"artistsong.csv\")\n",
    "df_cluster = pd.read_csv(\"clustered.csv\")"
   ]
  },
  {
   "cell_type": "code",
   "execution_count": 34,
   "id": "110282d9",
   "metadata": {},
   "outputs": [
    {
     "name": "stdout",
     "output_type": "stream",
     "text": [
      "Choose your song: we will rock\n"
     ]
    },
    {
     "data": {
      "text/html": [
       "\n",
       "        <iframe\n",
       "            width=\"320\"\n",
       "            height=\"80\"\n",
       "            src=\"https://open.spotify.com/embed/track/54flyrjcdnQdco7300avMJ?frameborder=0&allowtransparency=true&allow=encrypted-media\"\n",
       "            frameborder=\"0\"\n",
       "            allowfullscreen\n",
       "            \n",
       "        ></iframe>\n",
       "        "
      ],
      "text/plain": [
       "<IPython.lib.display.IFrame at 0x7fee92e06b20>"
      ]
     },
     "metadata": {},
     "output_type": "display_data"
    },
    {
     "name": "stdout",
     "output_type": "stream",
     "text": [
      "Nice choice, my friend! Maybe you might like this song too: Express Yourself by Charles Wright & The Watts 103rd Street Rhythm Band\n"
     ]
    },
    {
     "data": {
      "text/html": [
       "\n",
       "        <iframe\n",
       "            width=\"320\"\n",
       "            height=\"80\"\n",
       "            src=\"https://open.spotify.com/embed/track/4pW3aTX3kAmOaPJfc9UM12?frameborder=0&allowtransparency=true&allow=encrypted-media\"\n",
       "            frameborder=\"0\"\n",
       "            allowfullscreen\n",
       "            \n",
       "        ></iframe>\n",
       "        "
      ],
      "text/plain": [
       "<IPython.lib.display.IFrame at 0x7fee92dfff70>"
      ]
     },
     "metadata": {},
     "output_type": "display_data"
    }
   ],
   "source": [
    "#Let the user chose his song\n",
    "user_song = str(input(\"Choose your song: \"))    \n",
    "\n",
    "results = sp.search(q=user_song,limit=3)\n",
    "user_track_id=results[\"tracks\"][\"items\"][0][\"id\"]\n",
    "display(IFrame(src=\"https://open.spotify.com/embed/track/\"+user_track_id,\n",
    "               width=\"320\",height=\"80\",frameborder=\"0\",\n",
    "               allowtransparency=\"true\",allow=\"encrypted-media\",))\n",
    "\n",
    "#----------------------#\n",
    "#getting the audio features of the input song\n",
    "x_af = sp.audio_features(user_track_id)\n",
    "X_af = pd.DataFrame(x_af)\n",
    "X_af_num = X_af.drop(['key', 'mode', 'type', 'id', 'uri', 'track_href', \n",
    "                      'analysis_url', 'duration_ms', 'time_signature'], axis=1)\n",
    "\n",
    "#----------------------#\n",
    "\n",
    "hot_df = pd.read_csv(\"hot100_billboard.csv\")\n",
    "df_for_scaling = hot_df.drop([\"id\", \"duration_ms\"], axis=1) #spotify data without duration and id\n",
    "\n",
    "scaler = StandardScaler()\n",
    "scaler_fitted = scaler.fit(df_for_scaling) #scaling and fitting of the new song\n",
    "X_scaled = scaler_fitted.transform(df_for_scaling)\n",
    "X_scaled_df = pd.DataFrame(X_scaled, columns = df_for_scaling.columns)\n",
    "\n",
    "#-––-------------------#\n",
    "X_af_num_scaled = scaler_fitted.transform(X_af_num)\n",
    "\n",
    "#-––-------------------#\n",
    "n_clusters = 18\n",
    "kmeans = KMeans(n_clusters=n_clusters, random_state=1234)\n",
    "kmeans.fit(X_scaled_df.values)\n",
    "song_cluster = kmeans.predict(X_af_num_scaled) # cluster centroid of the inputed song\n",
    "\n",
    "#-––-------------------#\n",
    "\n",
    "for i in range(n_clusters):\n",
    "    if song_cluster == i:\n",
    "        mask = df_cluster['cluster'] == i\n",
    "        selected_rows = df_cluster[mask]\n",
    "        random_row = selected_rows.sample()\n",
    "        track_id = random_row['id'].to_string(index=False)\n",
    "        track = sp.track(track_id)\n",
    "        print('Nice choice, my friend! Maybe you might like this song too: ' + track[\"name\"]\n",
    "              + ' by ' + track[\"album\"][\"artists\"][0][\"name\"])\n",
    "        display(IFrame(src=\"https://open.spotify.com/embed/track/\"+track_id,\n",
    "                       width=\"320\", height=\"80\",frameborder=\"0\",\n",
    "                       allowtransparency=\"true\",allow=\"encrypted-media\",))\n",
    "\n"
   ]
  },
  {
   "cell_type": "code",
   "execution_count": null,
   "id": "47df7de0",
   "metadata": {},
   "outputs": [],
   "source": []
  },
  {
   "cell_type": "code",
   "execution_count": null,
   "id": "8f871695",
   "metadata": {},
   "outputs": [],
   "source": []
  }
 ],
 "metadata": {
  "kernelspec": {
   "display_name": "Python 3 (ipykernel)",
   "language": "python",
   "name": "python3"
  },
  "language_info": {
   "codemirror_mode": {
    "name": "ipython",
    "version": 3
   },
   "file_extension": ".py",
   "mimetype": "text/x-python",
   "name": "python",
   "nbconvert_exporter": "python",
   "pygments_lexer": "ipython3",
   "version": "3.9.13"
  }
 },
 "nbformat": 4,
 "nbformat_minor": 5
}
