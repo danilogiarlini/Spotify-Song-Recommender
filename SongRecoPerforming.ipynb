{
 "cells": [
  {
   "cell_type": "code",
   "execution_count": 62,
   "id": "7799eff2",
   "metadata": {},
   "outputs": [],
   "source": [
    "# 1. import libraries\n",
    "import requests # to download html code\n",
    "from bs4 import BeautifulSoup # to navigate through the html code\n",
    "import pandas as pd\n",
    "import numpy as np\n",
    "import re\n",
    "from sklearn.preprocessing import StandardScaler\n",
    "from sklearn.cluster import KMeans\n",
    "\n",
    "\n",
    "\n",
    "import config\n",
    "import spotipy\n",
    "import json\n",
    "from spotipy.oauth2 import SpotifyClientCredentials\n",
    "\n",
    "#Initialize SpotiPy with user credentias\n",
    "sp = spotipy.Spotify(auth_manager=SpotifyClientCredentials(client_id= config.client_id,\n",
    "                                                           client_secret= config.client_secret))\n",
    "\n",
    "hot100_df = pd.read_csv(\"artistsong.csv\")\n",
    "clustered_df = pd.read_csv(\"clustered.csv\")"
   ]
  },
  {
   "cell_type": "code",
   "execution_count": 52,
   "id": "89fe3309",
   "metadata": {},
   "outputs": [
    {
     "data": {
      "text/html": [
       "<div>\n",
       "<style scoped>\n",
       "    .dataframe tbody tr th:only-of-type {\n",
       "        vertical-align: middle;\n",
       "    }\n",
       "\n",
       "    .dataframe tbody tr th {\n",
       "        vertical-align: top;\n",
       "    }\n",
       "\n",
       "    .dataframe thead th {\n",
       "        text-align: right;\n",
       "    }\n",
       "</style>\n",
       "<table border=\"1\" class=\"dataframe\">\n",
       "  <thead>\n",
       "    <tr style=\"text-align: right;\">\n",
       "      <th></th>\n",
       "      <th>artist</th>\n",
       "      <th>song</th>\n",
       "    </tr>\n",
       "  </thead>\n",
       "  <tbody>\n",
       "    <tr>\n",
       "      <th>0</th>\n",
       "      <td>miley cyrus</td>\n",
       "      <td>flowers</td>\n",
       "    </tr>\n",
       "    <tr>\n",
       "      <th>1</th>\n",
       "      <td>sza</td>\n",
       "      <td>kill bill</td>\n",
       "    </tr>\n",
       "    <tr>\n",
       "      <th>2</th>\n",
       "      <td>morgan wallen</td>\n",
       "      <td>last night</td>\n",
       "    </tr>\n",
       "    <tr>\n",
       "      <th>3</th>\n",
       "      <td>sam smith &amp; kim petras</td>\n",
       "      <td>unholy</td>\n",
       "    </tr>\n",
       "    <tr>\n",
       "      <th>4</th>\n",
       "      <td>metro boomin, the weeknd &amp; 21 savage</td>\n",
       "      <td>creepin'</td>\n",
       "    </tr>\n",
       "    <tr>\n",
       "      <th>...</th>\n",
       "      <td>...</td>\n",
       "      <td>...</td>\n",
       "    </tr>\n",
       "    <tr>\n",
       "      <th>95</th>\n",
       "      <td>yandel &amp; feid</td>\n",
       "      <td>yandel 150</td>\n",
       "    </tr>\n",
       "    <tr>\n",
       "      <th>96</th>\n",
       "      <td>mac demarco</td>\n",
       "      <td>heart to heart</td>\n",
       "    </tr>\n",
       "    <tr>\n",
       "      <th>97</th>\n",
       "      <td>jordan davis</td>\n",
       "      <td>next thing you know</td>\n",
       "    </tr>\n",
       "    <tr>\n",
       "      <th>98</th>\n",
       "      <td>p!nk</td>\n",
       "      <td>never gonna not dance again</td>\n",
       "    </tr>\n",
       "    <tr>\n",
       "      <th>99</th>\n",
       "      <td>sza featuring travis scott</td>\n",
       "      <td>open arms</td>\n",
       "    </tr>\n",
       "  </tbody>\n",
       "</table>\n",
       "<p>100 rows × 2 columns</p>\n",
       "</div>"
      ],
      "text/plain": [
       "                                  artist                         song\n",
       "0                            miley cyrus                      flowers\n",
       "1                                    sza                    kill bill\n",
       "2                          morgan wallen                   last night\n",
       "3                 sam smith & kim petras                       unholy\n",
       "4   metro boomin, the weeknd & 21 savage                     creepin'\n",
       "..                                   ...                          ...\n",
       "95                         yandel & feid                   yandel 150\n",
       "96                           mac demarco               heart to heart\n",
       "97                          jordan davis          next thing you know\n",
       "98                                  p!nk  never gonna not dance again\n",
       "99            sza featuring travis scott                    open arms\n",
       "\n",
       "[100 rows x 2 columns]"
      ]
     },
     "execution_count": 52,
     "metadata": {},
     "output_type": "execute_result"
    }
   ],
   "source": [
    "hot100_df"
   ]
  },
  {
   "cell_type": "code",
   "execution_count": 53,
   "id": "4c94ad19",
   "metadata": {},
   "outputs": [
    {
     "name": "stdout",
     "output_type": "stream",
     "text": [
      "Choose your song: f\n",
      "Did you mean F by Series([], )?f\n",
      "'f' is not a valid yes/no response.\n",
      "Did you mean F by Series([], )?n\n",
      "Your song is not in Billboard 100 Hot\n"
     ]
    }
   ],
   "source": [
    "import pyinputplus as pyip   #to insert predefined user input functions\n",
    "import random\n",
    "\n",
    "user_song = str(input(\"Choose your song: \"))    \n",
    "rec_song = hot100_df[\"song\"].sample().to_string(index=False)     #randomly reccomend another song with sample, .to_string avoit to put the index too\n",
    "rec_artist = hot100_df.loc[hot100_df[\"song\"] == rec_song, \"artist\"].to_string(index=False)   #associate the artist to the random reccomended song\n",
    "\n",
    "x_artist = hot100_df.loc[hot100_df['song'].map(str.lower)  == user_song.lower(), 'artist'] # artist corresponding to song x\n",
    "artist_question = pyip.inputYesNo('Did you mean ' + user_song.lower().title() + ' by ' + x_artist.to_string(index=False).title() + '?')  #this asks if the user mean an identical song but not in the list, if neither Y or N are given, it asks again\n",
    "\n",
    "if artist_question == \"yes\":\n",
    "    if user_song.lower() in hot100_df.values and user_song.lower() != rec_song:         #.lower() exclude typos from capital/lower letter \"and user_song.lower() != rec_song\" exclude to randomize including the same song\n",
    "        print(f\"The song you have chosen is \" + user_song.title() + \". Why don't you try to listen to \" + rec_song.title() + \" by \" + rec_artist.title())     #.title() gives results with capital first letter\n",
    "    else:\n",
    "        print(\"Your song is not in Billboard 100 Hot\")\n",
    "else:\n",
    "    print(\"Your song is not in Billboard 100 Hot\")"
   ]
  },
  {
   "cell_type": "code",
   "execution_count": 54,
   "id": "bd8ed7b2",
   "metadata": {},
   "outputs": [
    {
     "name": "stdout",
     "output_type": "stream",
     "text": [
      "Choose your song: One Love\n"
     ]
    },
    {
     "data": {
      "text/plain": [
       "{'tracks': {'href': 'https://api.spotify.com/v1/search?query=One+Love&type=track&market=GB&offset=0&limit=3',\n",
       "  'items': [{'album': {'album_type': 'album',\n",
       "     'artists': [{'external_urls': {'spotify': 'https://open.spotify.com/artist/2QsynagSdAqZj3U9HgDzjD'},\n",
       "       'href': 'https://api.spotify.com/v1/artists/2QsynagSdAqZj3U9HgDzjD',\n",
       "       'id': '2QsynagSdAqZj3U9HgDzjD',\n",
       "       'name': 'Bob Marley & The Wailers',\n",
       "       'type': 'artist',\n",
       "       'uri': 'spotify:artist:2QsynagSdAqZj3U9HgDzjD'}],\n",
       "     'external_urls': {'spotify': 'https://open.spotify.com/album/2mBbV0Ad6B4ydHMZlzAY7S'},\n",
       "     'href': 'https://api.spotify.com/v1/albums/2mBbV0Ad6B4ydHMZlzAY7S',\n",
       "     'id': '2mBbV0Ad6B4ydHMZlzAY7S',\n",
       "     'images': [{'height': 640,\n",
       "       'url': 'https://i.scdn.co/image/ab67616d0000b273811bfdc4f55b3a7484524aaf',\n",
       "       'width': 640},\n",
       "      {'height': 300,\n",
       "       'url': 'https://i.scdn.co/image/ab67616d00001e02811bfdc4f55b3a7484524aaf',\n",
       "       'width': 300},\n",
       "      {'height': 64,\n",
       "       'url': 'https://i.scdn.co/image/ab67616d00004851811bfdc4f55b3a7484524aaf',\n",
       "       'width': 64}],\n",
       "     'name': 'Exodus',\n",
       "     'release_date': '1977-06-03',\n",
       "     'release_date_precision': 'day',\n",
       "     'total_tracks': 12,\n",
       "     'type': 'album',\n",
       "     'uri': 'spotify:album:2mBbV0Ad6B4ydHMZlzAY7S'},\n",
       "    'artists': [{'external_urls': {'spotify': 'https://open.spotify.com/artist/2QsynagSdAqZj3U9HgDzjD'},\n",
       "      'href': 'https://api.spotify.com/v1/artists/2QsynagSdAqZj3U9HgDzjD',\n",
       "      'id': '2QsynagSdAqZj3U9HgDzjD',\n",
       "      'name': 'Bob Marley & The Wailers',\n",
       "      'type': 'artist',\n",
       "      'uri': 'spotify:artist:2QsynagSdAqZj3U9HgDzjD'}],\n",
       "    'disc_number': 1,\n",
       "    'duration_ms': 172933,\n",
       "    'explicit': False,\n",
       "    'external_ids': {'isrc': 'GBAAN7790002'},\n",
       "    'external_urls': {'spotify': 'https://open.spotify.com/track/6SR0dDuXH2vtgBfMLrivKV'},\n",
       "    'href': 'https://api.spotify.com/v1/tracks/6SR0dDuXH2vtgBfMLrivKV',\n",
       "    'id': '6SR0dDuXH2vtgBfMLrivKV',\n",
       "    'is_local': False,\n",
       "    'is_playable': True,\n",
       "    'name': 'One Love / People Get Ready - Medley',\n",
       "    'popularity': 68,\n",
       "    'preview_url': 'https://p.scdn.co/mp3-preview/f84ed6325c1aa0db40002d0ab3603306a04e9f6a?cid=a3d48adb378842b3bfc03d1d84364bfe',\n",
       "    'track_number': 10,\n",
       "    'type': 'track',\n",
       "    'uri': 'spotify:track:6SR0dDuXH2vtgBfMLrivKV'},\n",
       "   {'album': {'album_type': 'album',\n",
       "     'artists': [{'external_urls': {'spotify': 'https://open.spotify.com/artist/3mIj9lX2MWuHmhNCA7LSCW'},\n",
       "       'href': 'https://api.spotify.com/v1/artists/3mIj9lX2MWuHmhNCA7LSCW',\n",
       "       'id': '3mIj9lX2MWuHmhNCA7LSCW',\n",
       "       'name': 'The 1975',\n",
       "       'type': 'artist',\n",
       "       'uri': 'spotify:artist:3mIj9lX2MWuHmhNCA7LSCW'}],\n",
       "     'external_urls': {'spotify': 'https://open.spotify.com/album/6dVCpQ7oGJD1oYs2fv1t5M'},\n",
       "     'href': 'https://api.spotify.com/v1/albums/6dVCpQ7oGJD1oYs2fv1t5M',\n",
       "     'id': '6dVCpQ7oGJD1oYs2fv1t5M',\n",
       "     'images': [{'height': 640,\n",
       "       'url': 'https://i.scdn.co/image/ab67616d0000b2731f44db452a68e229650a302c',\n",
       "       'width': 640},\n",
       "      {'height': 300,\n",
       "       'url': 'https://i.scdn.co/image/ab67616d00001e021f44db452a68e229650a302c',\n",
       "       'width': 300},\n",
       "      {'height': 64,\n",
       "       'url': 'https://i.scdn.co/image/ab67616d000048511f44db452a68e229650a302c',\n",
       "       'width': 64}],\n",
       "     'name': 'Being Funny In A Foreign Language',\n",
       "     'release_date': '2022-10-14',\n",
       "     'release_date_precision': 'day',\n",
       "     'total_tracks': 11,\n",
       "     'type': 'album',\n",
       "     'uri': 'spotify:album:6dVCpQ7oGJD1oYs2fv1t5M'},\n",
       "    'artists': [{'external_urls': {'spotify': 'https://open.spotify.com/artist/3mIj9lX2MWuHmhNCA7LSCW'},\n",
       "      'href': 'https://api.spotify.com/v1/artists/3mIj9lX2MWuHmhNCA7LSCW',\n",
       "      'id': '3mIj9lX2MWuHmhNCA7LSCW',\n",
       "      'name': 'The 1975',\n",
       "      'type': 'artist',\n",
       "      'uri': 'spotify:artist:3mIj9lX2MWuHmhNCA7LSCW'}],\n",
       "    'disc_number': 1,\n",
       "    'duration_ms': 262623,\n",
       "    'explicit': True,\n",
       "    'external_ids': {'isrc': 'GBK3W2202317'},\n",
       "    'external_urls': {'spotify': 'https://open.spotify.com/track/12g9IeQzX7xECLNxz8dpb5'},\n",
       "    'href': 'https://api.spotify.com/v1/tracks/12g9IeQzX7xECLNxz8dpb5',\n",
       "    'id': '12g9IeQzX7xECLNxz8dpb5',\n",
       "    'is_local': False,\n",
       "    'is_playable': True,\n",
       "    'name': \"I'm In Love With You\",\n",
       "    'popularity': 71,\n",
       "    'preview_url': 'https://p.scdn.co/mp3-preview/ab7235ad5268512841257ddaa4bdd1b57459d0a0?cid=a3d48adb378842b3bfc03d1d84364bfe',\n",
       "    'track_number': 6,\n",
       "    'type': 'track',\n",
       "    'uri': 'spotify:track:12g9IeQzX7xECLNxz8dpb5'},\n",
       "   {'album': {'album_type': 'compilation',\n",
       "     'artists': [{'external_urls': {'spotify': 'https://open.spotify.com/artist/2QsynagSdAqZj3U9HgDzjD'},\n",
       "       'href': 'https://api.spotify.com/v1/artists/2QsynagSdAqZj3U9HgDzjD',\n",
       "       'id': '2QsynagSdAqZj3U9HgDzjD',\n",
       "       'name': 'Bob Marley & The Wailers',\n",
       "       'type': 'artist',\n",
       "       'uri': 'spotify:artist:2QsynagSdAqZj3U9HgDzjD'}],\n",
       "     'external_urls': {'spotify': 'https://open.spotify.com/album/4jKeipwuUTjlx9USNYdhZn'},\n",
       "     'href': 'https://api.spotify.com/v1/albums/4jKeipwuUTjlx9USNYdhZn',\n",
       "     'id': '4jKeipwuUTjlx9USNYdhZn',\n",
       "     'images': [{'height': 640,\n",
       "       'url': 'https://i.scdn.co/image/ab67616d0000b273413a6c2c7b296d98171e5e21',\n",
       "       'width': 640},\n",
       "      {'height': 300,\n",
       "       'url': 'https://i.scdn.co/image/ab67616d00001e02413a6c2c7b296d98171e5e21',\n",
       "       'width': 300},\n",
       "      {'height': 64,\n",
       "       'url': 'https://i.scdn.co/image/ab67616d00004851413a6c2c7b296d98171e5e21',\n",
       "       'width': 64}],\n",
       "     'name': 'Legend - The Best Of Bob Marley And The Wailers',\n",
       "     'release_date': '2002-01-01',\n",
       "     'release_date_precision': 'day',\n",
       "     'total_tracks': 16,\n",
       "     'type': 'album',\n",
       "     'uri': 'spotify:album:4jKeipwuUTjlx9USNYdhZn'},\n",
       "    'artists': [{'external_urls': {'spotify': 'https://open.spotify.com/artist/2QsynagSdAqZj3U9HgDzjD'},\n",
       "      'href': 'https://api.spotify.com/v1/artists/2QsynagSdAqZj3U9HgDzjD',\n",
       "      'id': '2QsynagSdAqZj3U9HgDzjD',\n",
       "      'name': 'Bob Marley & The Wailers',\n",
       "      'type': 'artist',\n",
       "      'uri': 'spotify:artist:2QsynagSdAqZj3U9HgDzjD'}],\n",
       "    'disc_number': 1,\n",
       "    'duration_ms': 172200,\n",
       "    'explicit': False,\n",
       "    'external_ids': {'isrc': 'GBAAN7790002'},\n",
       "    'external_urls': {'spotify': 'https://open.spotify.com/track/2BSwGHTh4kmckqXQfaCaAp'},\n",
       "    'href': 'https://api.spotify.com/v1/tracks/2BSwGHTh4kmckqXQfaCaAp',\n",
       "    'id': '2BSwGHTh4kmckqXQfaCaAp',\n",
       "    'is_local': False,\n",
       "    'is_playable': True,\n",
       "    'name': 'One Love / People Get Ready - Medley',\n",
       "    'popularity': 56,\n",
       "    'preview_url': 'https://p.scdn.co/mp3-preview/8b9eebd0af14359ae6c334ee915a1365af9f51b7?cid=a3d48adb378842b3bfc03d1d84364bfe',\n",
       "    'track_number': 9,\n",
       "    'type': 'track',\n",
       "    'uri': 'spotify:track:2BSwGHTh4kmckqXQfaCaAp'}],\n",
       "  'limit': 3,\n",
       "  'next': 'https://api.spotify.com/v1/search?query=One+Love&type=track&market=GB&offset=3&limit=3',\n",
       "  'offset': 0,\n",
       "  'previous': None,\n",
       "  'total': 1000}}"
      ]
     },
     "execution_count": 54,
     "metadata": {},
     "output_type": "execute_result"
    }
   ],
   "source": [
    "#User function again\n",
    "x = str(input(\"Choose your song: \"))\n",
    "results = sp.search(q=x, limit=3,market=\"GB\")\n",
    "results"
   ]
  },
  {
   "cell_type": "code",
   "execution_count": 55,
   "id": "9ab9d0be",
   "metadata": {},
   "outputs": [
    {
     "data": {
      "text/plain": [
       "'6SR0dDuXH2vtgBfMLrivKV'"
      ]
     },
     "execution_count": 55,
     "metadata": {},
     "output_type": "execute_result"
    }
   ],
   "source": [
    "#From the song to the track id\n",
    "track_id=track_id=results[\"tracks\"][\"items\"][0][\"id\"]\n",
    "track_id"
   ]
  },
  {
   "cell_type": "code",
   "execution_count": 56,
   "id": "8ac31efa",
   "metadata": {},
   "outputs": [
    {
     "data": {
      "text/html": [
       "\n",
       "        <iframe\n",
       "            width=\"320\"\n",
       "            height=\"80\"\n",
       "            src=\"https://open.spotify.com/embed/track/6SR0dDuXH2vtgBfMLrivKV?frameborder=0&allowtransparency=true&allow=encrypted-media\"\n",
       "            frameborder=\"0\"\n",
       "            allowfullscreen\n",
       "            \n",
       "        ></iframe>\n",
       "        "
      ],
      "text/plain": [
       "<IPython.lib.display.IFrame at 0x7f7e11726d30>"
      ]
     },
     "execution_count": 56,
     "metadata": {},
     "output_type": "execute_result"
    }
   ],
   "source": [
    "#Just try the display of the song\n",
    "from IPython.display import IFrame\n",
    "\n",
    "#track_id = \"1rfORa9iYmocEsnnZGMVC4\"\n",
    "#track_id= 'spotify:track:3hgl7EQwTutSm6PESsB7gZ'\n",
    "IFrame(src=\"https://open.spotify.com/embed/track/\"+track_id,\n",
    "       width=\"320\",\n",
    "       height=\"80\",\n",
    "       frameborder=\"0\",\n",
    "       allowtransparency=\"true\",\n",
    "       allow=\"encrypted-media\",\n",
    "      )"
   ]
  },
  {
   "cell_type": "code",
   "execution_count": 57,
   "id": "355a8f24",
   "metadata": {},
   "outputs": [
    {
     "data": {
      "text/html": [
       "<div>\n",
       "<style scoped>\n",
       "    .dataframe tbody tr th:only-of-type {\n",
       "        vertical-align: middle;\n",
       "    }\n",
       "\n",
       "    .dataframe tbody tr th {\n",
       "        vertical-align: top;\n",
       "    }\n",
       "\n",
       "    .dataframe thead th {\n",
       "        text-align: right;\n",
       "    }\n",
       "</style>\n",
       "<table border=\"1\" class=\"dataframe\">\n",
       "  <thead>\n",
       "    <tr style=\"text-align: right;\">\n",
       "      <th></th>\n",
       "      <th>danceability</th>\n",
       "      <th>energy</th>\n",
       "      <th>loudness</th>\n",
       "      <th>speechiness</th>\n",
       "      <th>acousticness</th>\n",
       "      <th>instrumentalness</th>\n",
       "      <th>liveness</th>\n",
       "      <th>valence</th>\n",
       "      <th>tempo</th>\n",
       "    </tr>\n",
       "  </thead>\n",
       "  <tbody>\n",
       "    <tr>\n",
       "      <th>0</th>\n",
       "      <td>0.67</td>\n",
       "      <td>0.516</td>\n",
       "      <td>-9.598</td>\n",
       "      <td>0.366</td>\n",
       "      <td>0.0673</td>\n",
       "      <td>0</td>\n",
       "      <td>0.0674</td>\n",
       "      <td>0.939</td>\n",
       "      <td>154.186</td>\n",
       "    </tr>\n",
       "  </tbody>\n",
       "</table>\n",
       "</div>"
      ],
      "text/plain": [
       "   danceability  energy  loudness  speechiness  acousticness  \\\n",
       "0          0.67   0.516    -9.598        0.366        0.0673   \n",
       "\n",
       "   instrumentalness  liveness  valence    tempo  \n",
       "0                 0    0.0674    0.939  154.186  "
      ]
     },
     "execution_count": 57,
     "metadata": {},
     "output_type": "execute_result"
    }
   ],
   "source": [
    "#audio feature of the chosen song\n",
    "x_af = sp.audio_features(track_id)\n",
    "X_af = pd.DataFrame(x_af)\n",
    "X_af\n",
    "\n",
    "X_af_num = X_af.drop(['key', 'mode', 'type', 'id', 'uri', 'track_href', 'analysis_url', 'duration_ms', 'time_signature'], axis=1)\n",
    "# dropping some unwanted columns\n",
    "X_af_num"
   ]
  },
  {
   "cell_type": "code",
   "execution_count": 64,
   "id": "314cabc1",
   "metadata": {},
   "outputs": [
    {
     "data": {
      "text/plain": [
       "array([[ 0.38583971, -0.48043877, -0.30050489,  4.62491319, -0.69633509,\n",
       "        -0.36282265, -0.75633579,  1.49912139,  1.3301458 ]])"
      ]
     },
     "execution_count": 64,
     "metadata": {},
     "output_type": "execute_result"
    }
   ],
   "source": [
    "#Scale the chosen song to the scaled used for our spotify dataset\n",
    "hot_df = pd.read_csv(\"hot100_billboard.csv\")\n",
    "df_for_scaling = hot_df.drop([\"id\", \"duration_ms\"], axis=1) #spotify data without duration and id\n",
    "\n",
    "scaler = StandardScaler()\n",
    "scaler_fitted = scaler.fit(df_for_scaling) #scaling for fitting of the new song\n",
    "X_scaled = scaler_fitted.transform(df_for_scaling)\n",
    "X_scaled_df = pd.DataFrame(X_scaled, columns = df_for_scaling.columns)\n",
    "\n",
    "X_af_num_scaled = scaler_fitted.transform(X_af_num)\n",
    "X_af_num_scaled\n"
   ]
  },
  {
   "cell_type": "code",
   "execution_count": 65,
   "id": "19c5c7b3",
   "metadata": {},
   "outputs": [
    {
     "name": "stderr",
     "output_type": "stream",
     "text": [
      "/Users/danilogiarlini/opt/anaconda3/lib/python3.9/site-packages/sklearn/base.py:450: UserWarning: X does not have valid feature names, but KMeans was fitted with feature names\n",
      "  warnings.warn(\n"
     ]
    }
   ],
   "source": [
    "#Predicting the cluster of the chosen song\n",
    "\n",
    "kmeans = KMeans(n_clusters=7, random_state=1234)\n",
    "kmeans.fit(X_scaled_df)\n",
    "input_song_cluster = kmeans.predict(X_af_num_scaled)"
   ]
  },
  {
   "cell_type": "code",
   "execution_count": null,
   "id": "a38fa6b8",
   "metadata": {},
   "outputs": [],
   "source": []
  }
 ],
 "metadata": {
  "kernelspec": {
   "display_name": "Python 3 (ipykernel)",
   "language": "python",
   "name": "python3"
  },
  "language_info": {
   "codemirror_mode": {
    "name": "ipython",
    "version": 3
   },
   "file_extension": ".py",
   "mimetype": "text/x-python",
   "name": "python",
   "nbconvert_exporter": "python",
   "pygments_lexer": "ipython3",
   "version": "3.9.13"
  }
 },
 "nbformat": 4,
 "nbformat_minor": 5
}
