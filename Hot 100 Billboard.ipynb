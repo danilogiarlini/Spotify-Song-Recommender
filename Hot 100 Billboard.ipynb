{
 "cells": [
  {
   "cell_type": "code",
   "execution_count": 2,
   "id": "3712499f",
   "metadata": {},
   "outputs": [],
   "source": [
    "# 1. import libraries\n",
    "import requests # to download html code\n",
    "from bs4 import BeautifulSoup # to navigate through the html code\n",
    "import pandas as pd\n",
    "import numpy as np\n",
    "import re"
   ]
  },
  {
   "cell_type": "code",
   "execution_count": 3,
   "id": "60b4b5b6",
   "metadata": {},
   "outputs": [],
   "source": [
    "# 2. find url and store it in a variable\n",
    "url = \"https://www.billboard.com/charts/hot-100/\""
   ]
  },
  {
   "cell_type": "code",
   "execution_count": 4,
   "id": "fe5f36bd",
   "metadata": {},
   "outputs": [
    {
     "name": "stdout",
     "output_type": "stream",
     "text": [
      "200\n"
     ]
    }
   ],
   "source": [
    "# 3. download html with a get request. Use the function request.get() and store the output in response\n",
    "response = requests.get(url)\n",
    "# 200 status code means OK! response.status_code\n",
    "print(response.status_code)"
   ]
  },
  {
   "cell_type": "code",
   "execution_count": 6,
   "id": "ff056365",
   "metadata": {},
   "outputs": [],
   "source": [
    "# 4.1. parse html (create the 'soup')\n",
    "soup = BeautifulSoup(response.text, 'html.parser')\n",
    "# 4.2. check that the html code looks like it should\n",
    "#print(soup.prettify())"
   ]
  },
  {
   "cell_type": "code",
   "execution_count": 7,
   "id": "c6a98bab",
   "metadata": {},
   "outputs": [
    {
     "data": {
      "text/plain": [
       "['Flowers',\n",
       " 'Kill Bill',\n",
       " 'Last Night',\n",
       " 'Unholy',\n",
       " \"Creepin'\",\n",
       " 'Cuff It',\n",
       " 'Anti-Hero',\n",
       " 'Die For You',\n",
       " \"I'm Good (Blue)\",\n",
       " 'As It Was',\n",
       " 'Rich Flex',\n",
       " 'Just Wanna Rock',\n",
       " 'Thought You Should Know',\n",
       " \"Boy's A Liar, Pt. 2\",\n",
       " 'Made You Look',\n",
       " 'Under The Influence',\n",
       " 'Golden Hour',\n",
       " 'You Proof',\n",
       " 'Rock And A Hard Place',\n",
       " 'Something In The Orange',\n",
       " 'Thank God',\n",
       " 'Bad Habit',\n",
       " 'Going, Going, Gone',\n",
       " 'Escapism',\n",
       " 'Superhero (Heroes & Villains)',\n",
       " 'Lavender Haze',\n",
       " 'Calm Down',\n",
       " 'Players',\n",
       " 'Shirt',\n",
       " 'Sure Thing',\n",
       " 'The Kind Of Love We Make',\n",
       " 'Heart Like A Truck',\n",
       " 'Bzrp Music Sessions, Vol. 53',\n",
       " 'Snooze',\n",
       " 'Until I Found You',\n",
       " 'Wait For U',\n",
       " 'I Like You (A Happier Song)',\n",
       " 'I Wrote The Book',\n",
       " 'Bebe Dame',\n",
       " 'Tomorrow 2',\n",
       " 'About Damn Time',\n",
       " 'Wait In The Truck',\n",
       " 'She Had Me At Heads Carolina',\n",
       " 'Nobody Gets Me',\n",
       " 'What My World Spins Around',\n",
       " 'Unstoppable',\n",
       " 'One Thing At A Time',\n",
       " 'Whiskey On You',\n",
       " 'Dawns',\n",
       " 'Love Again',\n",
       " 'Everything I Love',\n",
       " 'Lift Me Up',\n",
       " 'Que Vuelvas',\n",
       " 'Low',\n",
       " 'Tennessee Orange',\n",
       " 'X Si Volvemos',\n",
       " 'Bloody Mary',\n",
       " 'Handle On You',\n",
       " \"What He Didn't Do\",\n",
       " 'Freestyle',\n",
       " 'Wild As Her',\n",
       " 'Spin Bout U',\n",
       " \"You Didn't\",\n",
       " \"Growin' Up And Gettin' Old\",\n",
       " 'Nonsense',\n",
       " 'Here With Me',\n",
       " 'The Color Violet',\n",
       " 'AMG',\n",
       " '10:35',\n",
       " 'La Bachata',\n",
       " 'Forget Me',\n",
       " 'Shut Up My Moms Calling',\n",
       " 'Blind',\n",
       " 'OMG',\n",
       " 'No Se Va',\n",
       " 'Love You Better',\n",
       " 'La Jumpa',\n",
       " 'PRC',\n",
       " \"That's What Tequila Does\",\n",
       " 'Love Language',\n",
       " 'Tennessee Fan',\n",
       " 'Ditto',\n",
       " 'Watch The World Burn',\n",
       " 'Human',\n",
       " 'In Ha Mood',\n",
       " 'Back End',\n",
       " 'Do It Again',\n",
       " 'Hey Mor',\n",
       " 'Too Many Nights',\n",
       " 'Ghost In The Machine',\n",
       " 'Fin de Semana',\n",
       " 'Snap',\n",
       " 'California Breeze',\n",
       " \"I'm Not Here To Make Friends\",\n",
       " 'Gato de Noche',\n",
       " 'Yandel 150',\n",
       " 'Heart To Heart',\n",
       " 'Next Thing You Know',\n",
       " 'Never Gonna Not Dance Again',\n",
       " 'Open Arms']"
      ]
     },
     "execution_count": 7,
     "metadata": {},
     "output_type": "execute_result"
    }
   ],
   "source": [
    "song = [elem.get_text(\" \", strip=True) for elem in soup.select(\"li h3.c-title\")]\n",
    "song"
   ]
  },
  {
   "cell_type": "code",
   "execution_count": 8,
   "id": "43b0d00f",
   "metadata": {},
   "outputs": [
    {
     "data": {
      "text/plain": [
       "['Miley Cyrus',\n",
       " 'SZA',\n",
       " 'Morgan Wallen',\n",
       " 'Sam Smith & Kim Petras',\n",
       " 'Metro Boomin, The Weeknd & 21 Savage',\n",
       " 'Beyonce',\n",
       " 'Taylor Swift',\n",
       " 'The Weeknd',\n",
       " 'David Guetta & Bebe Rexha',\n",
       " 'Harry Styles',\n",
       " 'Drake & 21 Savage',\n",
       " 'Lil Uzi Vert',\n",
       " 'Morgan Wallen',\n",
       " 'PinkPantheress & Ice Spice',\n",
       " 'Meghan Trainor',\n",
       " 'Chris Brown',\n",
       " 'JVKE',\n",
       " 'Morgan Wallen',\n",
       " 'Bailey Zimmerman',\n",
       " 'Zach Bryan',\n",
       " 'Kane Brown With Katelyn Brown',\n",
       " 'Steve Lacy',\n",
       " 'Luke Combs',\n",
       " 'RAYE Featuring 070 Shake',\n",
       " 'Metro Boomin, Future & Chris Brown',\n",
       " 'Taylor Swift',\n",
       " 'Rema & Selena Gomez',\n",
       " 'Coi Leray',\n",
       " 'SZA',\n",
       " 'Miguel',\n",
       " 'Luke Combs',\n",
       " 'Lainey Wilson',\n",
       " 'Bizarrap & Shakira',\n",
       " 'SZA',\n",
       " 'Stephen Sanchez',\n",
       " 'Future Featuring Drake & Tems',\n",
       " 'Post Malone Featuring Doja Cat',\n",
       " 'Morgan Wallen',\n",
       " 'Fuerza Regida X Grupo Frontera',\n",
       " 'GloRilla & Cardi B',\n",
       " 'Lizzo',\n",
       " 'HARDY Featuring Lainey Wilson',\n",
       " 'Cole Swindell',\n",
       " 'SZA',\n",
       " 'Jordan Davis',\n",
       " 'Sia',\n",
       " 'Morgan Wallen',\n",
       " 'Nate Smith',\n",
       " 'Zach Bryan Featuring Maggie Rogers',\n",
       " 'The Kid LAROI',\n",
       " 'Morgan Wallen',\n",
       " 'Rihanna',\n",
       " 'Carin Leon X Grupo Frontera',\n",
       " 'SZA',\n",
       " 'Megan Moroney',\n",
       " 'Karol G x Romeo Santos',\n",
       " 'Lady Gaga',\n",
       " 'Parker McCollum',\n",
       " 'Carly Pearce',\n",
       " 'Lil Baby',\n",
       " 'Corey Kent',\n",
       " 'Drake & 21 Savage',\n",
       " 'Brett Young',\n",
       " 'Luke Combs',\n",
       " 'Sabrina Carpenter',\n",
       " 'd4vd',\n",
       " 'Tory Lanez',\n",
       " 'Gabito Ballesteros, Peso Pluma & Natanael Cano',\n",
       " 'Tiesto Featuring Tate McRae',\n",
       " 'Manuel Turizo',\n",
       " 'Lewis Capaldi',\n",
       " 'Hotel Ugly',\n",
       " 'SZA',\n",
       " 'NewJeans',\n",
       " 'Grupo Frontera',\n",
       " 'Future',\n",
       " 'Arcangel & Bad Bunny',\n",
       " 'Peso Pluma X Natanael Cano',\n",
       " 'Jason Aldean',\n",
       " 'SZA',\n",
       " 'Morgan Wallen',\n",
       " 'NewJeans',\n",
       " 'Falling In Reverse',\n",
       " 'Cody Johnson',\n",
       " 'Ice Spice',\n",
       " 'Finesse2Tymes',\n",
       " 'NLE Choppa & 2Rare',\n",
       " 'Ozuna Featuring Feid',\n",
       " 'Metro Boomin Featuring Don Toliver & Future',\n",
       " 'SZA Featuring Phoebe Bridgers',\n",
       " 'Junior H X Oscar Maydon',\n",
       " 'Rosa Linn',\n",
       " 'Lil Baby',\n",
       " 'Sam Smith',\n",
       " 'Nengo Flow & Bad Bunny',\n",
       " 'Yandel & Feid',\n",
       " 'Mac DeMarco',\n",
       " 'Jordan Davis',\n",
       " 'P!nk',\n",
       " 'SZA Featuring Travis Scott']"
      ]
     },
     "execution_count": 8,
     "metadata": {},
     "output_type": "execute_result"
    }
   ],
   "source": [
    "artist = [elem.get_text(\" \", strip=True) for elem in soup.select(\"li span.c-label.a-no-trucate\")]\n",
    "artist"
   ]
  },
  {
   "cell_type": "code",
   "execution_count": 10,
   "id": "1e0855cf",
   "metadata": {},
   "outputs": [
    {
     "data": {
      "text/html": [
       "<div>\n",
       "<style scoped>\n",
       "    .dataframe tbody tr th:only-of-type {\n",
       "        vertical-align: middle;\n",
       "    }\n",
       "\n",
       "    .dataframe tbody tr th {\n",
       "        vertical-align: top;\n",
       "    }\n",
       "\n",
       "    .dataframe thead th {\n",
       "        text-align: right;\n",
       "    }\n",
       "</style>\n",
       "<table border=\"1\" class=\"dataframe\">\n",
       "  <thead>\n",
       "    <tr style=\"text-align: right;\">\n",
       "      <th></th>\n",
       "      <th>artist</th>\n",
       "      <th>song</th>\n",
       "    </tr>\n",
       "  </thead>\n",
       "  <tbody>\n",
       "    <tr>\n",
       "      <th>0</th>\n",
       "      <td>Miley Cyrus</td>\n",
       "      <td>Flowers</td>\n",
       "    </tr>\n",
       "    <tr>\n",
       "      <th>1</th>\n",
       "      <td>SZA</td>\n",
       "      <td>Kill Bill</td>\n",
       "    </tr>\n",
       "    <tr>\n",
       "      <th>2</th>\n",
       "      <td>Morgan Wallen</td>\n",
       "      <td>Last Night</td>\n",
       "    </tr>\n",
       "    <tr>\n",
       "      <th>3</th>\n",
       "      <td>Sam Smith &amp; Kim Petras</td>\n",
       "      <td>Unholy</td>\n",
       "    </tr>\n",
       "    <tr>\n",
       "      <th>4</th>\n",
       "      <td>Metro Boomin, The Weeknd &amp; 21 Savage</td>\n",
       "      <td>Creepin'</td>\n",
       "    </tr>\n",
       "    <tr>\n",
       "      <th>...</th>\n",
       "      <td>...</td>\n",
       "      <td>...</td>\n",
       "    </tr>\n",
       "    <tr>\n",
       "      <th>95</th>\n",
       "      <td>Yandel &amp; Feid</td>\n",
       "      <td>Yandel 150</td>\n",
       "    </tr>\n",
       "    <tr>\n",
       "      <th>96</th>\n",
       "      <td>Mac DeMarco</td>\n",
       "      <td>Heart To Heart</td>\n",
       "    </tr>\n",
       "    <tr>\n",
       "      <th>97</th>\n",
       "      <td>Jordan Davis</td>\n",
       "      <td>Next Thing You Know</td>\n",
       "    </tr>\n",
       "    <tr>\n",
       "      <th>98</th>\n",
       "      <td>P!nk</td>\n",
       "      <td>Never Gonna Not Dance Again</td>\n",
       "    </tr>\n",
       "    <tr>\n",
       "      <th>99</th>\n",
       "      <td>SZA Featuring Travis Scott</td>\n",
       "      <td>Open Arms</td>\n",
       "    </tr>\n",
       "  </tbody>\n",
       "</table>\n",
       "<p>100 rows × 2 columns</p>\n",
       "</div>"
      ],
      "text/plain": [
       "                                  artist                         song\n",
       "0                            Miley Cyrus                      Flowers\n",
       "1                                    SZA                    Kill Bill\n",
       "2                          Morgan Wallen                   Last Night\n",
       "3                 Sam Smith & Kim Petras                       Unholy\n",
       "4   Metro Boomin, The Weeknd & 21 Savage                     Creepin'\n",
       "..                                   ...                          ...\n",
       "95                         Yandel & Feid                   Yandel 150\n",
       "96                           Mac DeMarco               Heart To Heart\n",
       "97                          Jordan Davis          Next Thing You Know\n",
       "98                                  P!nk  Never Gonna Not Dance Again\n",
       "99            SZA Featuring Travis Scott                    Open Arms\n",
       "\n",
       "[100 rows x 2 columns]"
      ]
     },
     "execution_count": 10,
     "metadata": {},
     "output_type": "execute_result"
    }
   ],
   "source": [
    "hot100_df = pd.DataFrame({\"artist\":artist, \"song\":song})\n",
    "hot100_df"
   ]
  },
  {
   "cell_type": "code",
   "execution_count": 82,
   "id": "dad9443f",
   "metadata": {},
   "outputs": [
    {
     "name": "stdin",
     "output_type": "stream",
     "text": [
      "Choose your song:  Flowers\n"
     ]
    },
    {
     "name": "stdout",
     "output_type": "stream",
     "text": [
      "The song you have chosen is Flowers. Why don't you try to listen to Heart Like A Truck by Lainey Wilson\n"
     ]
    }
   ],
   "source": [
    "import random\n",
    "user_song = str(input(\"Choose your song: \"))\n",
    "recc_song = hot100_df[\"song\"].sample().to_string(index=False)\n",
    "recc_artist = hot100_df.loc[hot100_df[\"song\"] == recc_song, \"artist\"].to_string(index=False)\n",
    "\n",
    "if user_song in hot100_df.values:\n",
    "    print(f\"The song you have chosen is \" + user_song + \". Why don't you try to listen to \" + recc_song + \" by \" + recc_artist)\n",
    "else:\n",
    "    print(\"Your song is not in Billboard 100 Hot\")\n"
   ]
  },
  {
   "cell_type": "code",
   "execution_count": 81,
   "id": "676c0456-e619-4b6a-899d-c23ed42055ce",
   "metadata": {},
   "outputs": [
    {
     "data": {
      "text/plain": [
       "81"
      ]
     },
     "execution_count": 81,
     "metadata": {},
     "output_type": "execute_result"
    }
   ],
   "source": [
    "len(hot100_df[\"artist\"].unique())"
   ]
  },
  {
   "cell_type": "code",
   "execution_count": null,
   "id": "3d564ae5-5e66-43e7-bd01-34e06b8e77b2",
   "metadata": {},
   "outputs": [],
   "source": []
  }
 ],
 "metadata": {
  "kernelspec": {
   "display_name": "Python 3 (ipykernel)",
   "language": "python",
   "name": "python3"
  },
  "language_info": {
   "codemirror_mode": {
    "name": "ipython",
    "version": 3
   },
   "file_extension": ".py",
   "mimetype": "text/x-python",
   "name": "python",
   "nbconvert_exporter": "python",
   "pygments_lexer": "ipython3",
   "version": "3.9.13"
  }
 },
 "nbformat": 4,
 "nbformat_minor": 5
}
